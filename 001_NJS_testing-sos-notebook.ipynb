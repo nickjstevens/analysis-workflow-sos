{
 "cells": [
  {
   "cell_type": "code",
   "execution_count": 1,
   "metadata": {
    "kernel": "SoS"
   },
   "outputs": [],
   "source": [
    "a=1231241\n"
   ]
  },
  {
   "cell_type": "code",
   "execution_count": 2,
   "metadata": {
    "kernel": "SoS"
   },
   "outputs": [],
   "source": [
    "[global]\n",
    "parameter: loadcases = ['Qk1', 'Qk2', 'Gk1', 'Gk2', 'Gk3']"
   ]
  },
  {
   "cell_type": "code",
   "execution_count": 3,
   "metadata": {
    "hide_input": false,
    "kernel": "SoS"
   },
   "outputs": [],
   "source": [
    "[fea_1 (run analysis)]\n",
    "input: 'models/model.inp', for_each='loadcases'\n",
    "output: f'models/{_loadcases}.out'\n",
    "sh: expand=True\n",
    "    sleep 1\n",
    "    echo {_loadcases} > 'models/{_loadcases}.out'"
   ]
  },
  {
   "cell_type": "code",
   "execution_count": 3,
   "metadata": {
    "code_folding": [],
    "hide_input": false,
    "kernel": "SoS"
   },
   "outputs": [],
   "source": [
    "[fea_2 (post process results)]\n",
    "input: for_each='loadcases'\n",
    "output: f'models/{_loadcases}-post.out'\n",
    "sh: expand=True\n",
    "    sleep 1\n",
    "    echo Post processing {_input} which creates {_output} file > {_output}"
   ]
  },
  {
   "cell_type": "code",
   "execution_count": 9,
   "metadata": {
    "hide_input": false,
    "kernel": "SoS"
   },
   "outputs": [
    {
     "name": "stderr",
     "output_type": "stream",
     "text": [
      "INFO: \u001b[32mrun analysis\u001b[0m (index=0) is \u001b[32mignored\u001b[0m due to saved signature\n",
      "INFO: \u001b[32mrun analysis\u001b[0m (index=1) is \u001b[32mignored\u001b[0m due to saved signature\n",
      "INFO: \u001b[32mrun analysis\u001b[0m (index=2) is \u001b[32mignored\u001b[0m due to saved signature\n",
      "INFO: \u001b[32mrun analysis\u001b[0m (index=3) is \u001b[32mignored\u001b[0m due to saved signature\n",
      "INFO: \u001b[32mrun analysis\u001b[0m (index=4) is \u001b[32mignored\u001b[0m due to saved signature\n",
      "INFO: \u001b[32mpost process results\u001b[0m (index=0) is \u001b[32mignored\u001b[0m due to saved signature\n",
      "INFO: \u001b[32mpost process results\u001b[0m (index=1) is \u001b[32mignored\u001b[0m due to saved signature\n",
      "INFO: \u001b[32mpost process results\u001b[0m (index=2) is \u001b[32mignored\u001b[0m due to saved signature\n",
      "INFO: \u001b[32mpost process results\u001b[0m (index=3) is \u001b[32mignored\u001b[0m due to saved signature\n",
      "INFO: \u001b[32mpost process results\u001b[0m (index=4) is \u001b[32mignored\u001b[0m due to saved signature\n"
     ]
    }
   ],
   "source": [
    "%sosrun"
   ]
  },
  {
   "cell_type": "code",
   "execution_count": 20,
   "metadata": {
    "kernel": "SoS"
   },
   "outputs": [
    {
     "data": {
      "text/plain": [
       "['Qk1', 'Qk2', 'GK1', 'Gk2', 'Gk3']"
      ]
     },
     "execution_count": 20,
     "metadata": {},
     "output_type": "execute_result"
    }
   ],
   "source": []
  },
  {
   "cell_type": "code",
   "execution_count": null,
   "metadata": {},
   "outputs": [],
   "source": []
  }
 ],
 "metadata": {
  "hide_input": false,
  "kernelspec": {
   "display_name": "SoS",
   "language": "sos",
   "name": "sos"
  },
  "language_info": {
   "codemirror_mode": "sos",
   "file_extension": ".sos",
   "mimetype": "text/x-sos",
   "name": "sos",
   "nbconvert_exporter": "sos_notebook.converter.SoS_Exporter",
   "pygments_lexer": "sos"
  },
  "sos": {
   "default_kernel": "SoS",
   "kernels": [
    [
     "SoS",
     "sos",
     "",
     ""
    ],
    [
     "Bash",
     "bash",
     "Bash",
     "#E6EEFF"
    ],
    [
     "JavaScript",
     "javascript",
     "JavaScript",
     "#c8e1ae"
    ],
    [
     "Julia",
     "julia-0.5",
     "Julia",
     "#ebd8eb"
    ],
    [
     "Octave",
     "octave",
     "Octave",
     "#dff8fb"
    ],
    [
     "Python2",
     "python2",
     "Python2",
     "#FFE771"
    ],
    [
     "Python3",
     "python3",
     "Python3",
     "#FFE771"
    ],
    [
     "R",
     "ir",
     "R",
     "#DCDCDA"
    ]
   ],
   "panel": {
    "displayed": true,
    "height": 604.5,
    "style": "side"
   }
  },
  "toc": {
   "base_numbering": 1,
   "nav_menu": {},
   "number_sections": true,
   "sideBar": true,
   "skip_h1_title": false,
   "title_cell": "Table of Contents",
   "title_sidebar": "Contents",
   "toc_cell": false,
   "toc_position": {},
   "toc_section_display": true,
   "toc_window_display": false
  }
 },
 "nbformat": 4,
 "nbformat_minor": 2
}
